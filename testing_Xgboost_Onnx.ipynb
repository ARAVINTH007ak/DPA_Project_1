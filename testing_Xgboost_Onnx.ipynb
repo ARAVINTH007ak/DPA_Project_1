{
  "nbformat": 4,
  "nbformat_minor": 0,
  "metadata": {
    "colab": {
      "provenance": []
    },
    "kernelspec": {
      "name": "python3",
      "display_name": "Python 3"
    },
    "language_info": {
      "name": "python"
    }
  },
  "cells": [
    {
      "cell_type": "markdown",
      "source": [
        "# Installing the Libraries"
      ],
      "metadata": {
        "id": "DRqDPjqTO09u"
      }
    },
    {
      "cell_type": "code",
      "source": [
        "!pip install onnxruntime"
      ],
      "metadata": {
        "colab": {
          "base_uri": "https://localhost:8080/"
        },
        "id": "dnknrMecM7kX",
        "outputId": "3170f487-0713-4c47-f92c-d7ba135b1506"
      },
      "execution_count": null,
      "outputs": [
        {
          "output_type": "stream",
          "name": "stdout",
          "text": [
            "Requirement already satisfied: onnxruntime in /usr/local/lib/python3.10/dist-packages (1.20.1)\n",
            "Requirement already satisfied: coloredlogs in /usr/local/lib/python3.10/dist-packages (from onnxruntime) (15.0.1)\n",
            "Requirement already satisfied: flatbuffers in /usr/local/lib/python3.10/dist-packages (from onnxruntime) (24.3.25)\n",
            "Requirement already satisfied: numpy>=1.21.6 in /usr/local/lib/python3.10/dist-packages (from onnxruntime) (1.26.4)\n",
            "Requirement already satisfied: packaging in /usr/local/lib/python3.10/dist-packages (from onnxruntime) (24.2)\n",
            "Requirement already satisfied: protobuf in /usr/local/lib/python3.10/dist-packages (from onnxruntime) (4.25.5)\n",
            "Requirement already satisfied: sympy in /usr/local/lib/python3.10/dist-packages (from onnxruntime) (1.13.1)\n",
            "Requirement already satisfied: humanfriendly>=9.1 in /usr/local/lib/python3.10/dist-packages (from coloredlogs->onnxruntime) (10.0)\n",
            "Requirement already satisfied: mpmath<1.4,>=1.1.0 in /usr/local/lib/python3.10/dist-packages (from sympy->onnxruntime) (1.3.0)\n"
          ]
        }
      ]
    },
    {
      "cell_type": "markdown",
      "source": [
        "# Importing libraries"
      ],
      "metadata": {
        "id": "Idm5xYn1LzvO"
      }
    },
    {
      "cell_type": "code",
      "source": [
        "import pandas as pd\n",
        "import numpy as np\n",
        "import onnxruntime as rt\n",
        "from sklearn.preprocessing import StandardScaler\n",
        "from sklearn.metrics import accuracy_score\n",
        "import pickle"
      ],
      "metadata": {
        "id": "RnRBCMzxzclF"
      },
      "execution_count": null,
      "outputs": []
    },
    {
      "cell_type": "markdown",
      "source": [
        "# Data loading"
      ],
      "metadata": {
        "id": "SQVtoMjTL6AD"
      }
    },
    {
      "cell_type": "code",
      "source": [
        "data = pd.read_csv(\"data_public.csv\")\n",
        "X = data.iloc[:, :-1]\n",
        "y = data.iloc[:, -1]"
      ],
      "metadata": {
        "id": "gesbWmXBLW_p"
      },
      "execution_count": null,
      "outputs": []
    },
    {
      "cell_type": "markdown",
      "source": [
        "# Data pre-processing used in creating the Onnx model"
      ],
      "metadata": {
        "id": "Mp5PLSK2O5dQ"
      }
    },
    {
      "cell_type": "code",
      "source": [
        "def remove_outliers(X, y, threshold=1.5): # Function to remove the Outliers\n",
        "    Q1 = X.quantile(0.25)\n",
        "    Q3 = X.quantile(0.75)\n",
        "    IQR = Q3 - Q1\n",
        "    mask = ~((X < (Q1 - threshold * IQR)) | (X > (Q3 + threshold * IQR))).any(axis=1)\n",
        "    X_cleaned = X[mask].reset_index(drop=True)\n",
        "    y_cleaned = y[mask].reset_index(drop=True)\n",
        "    return X_cleaned, y_cleaned"
      ],
      "metadata": {
        "id": "nAdz4k9yNUZq"
      },
      "execution_count": null,
      "outputs": []
    },
    {
      "cell_type": "code",
      "source": [
        "X_cleaned, y_cleaned = remove_outliers(X, y)\n",
        "print(f\"Size before outlier removal: {len(data)}\")\n",
        "print(f\"Size after outlier removal: {len(X_cleaned)}\")"
      ],
      "metadata": {
        "colab": {
          "base_uri": "https://localhost:8080/"
        },
        "id": "a7UUv0QuNVQw",
        "outputId": "f599d728-c42b-4d3f-99ce-c12f8870f6f9"
      },
      "execution_count": null,
      "outputs": [
        {
          "output_type": "stream",
          "name": "stdout",
          "text": [
            "Size before outlier removal: 1200000\n",
            "Size after outlier removal: 999473\n"
          ]
        }
      ]
    },
    {
      "cell_type": "markdown",
      "source": [
        "# Reading the same scaler file used in creating the onnx model"
      ],
      "metadata": {
        "id": "USYeJVDoL9ad"
      }
    },
    {
      "cell_type": "code",
      "source": [
        "with open(\"scaler.pkl\", \"rb\") as f:\n",
        "    scaler = pickle.load(f)"
      ],
      "metadata": {
        "id": "FX75JaDhLYvZ"
      },
      "execution_count": null,
      "outputs": []
    },
    {
      "cell_type": "markdown",
      "source": [
        "# Independent and dependent variable"
      ],
      "metadata": {
        "id": "hUqYpa8nMIKj"
      }
    },
    {
      "cell_type": "code",
      "source": [
        "X_scaled = scaler.transform(X_cleaned) ## using the scaler.pkl\n",
        "y_mapped = y_cleaned - 1 # (y-1) because xgboost take 0 as the first class [1,2,3] -> [0,1,2]"
      ],
      "metadata": {
        "id": "QltvD_VeLZGS"
      },
      "execution_count": null,
      "outputs": []
    },
    {
      "cell_type": "markdown",
      "source": [
        "# Inference Section"
      ],
      "metadata": {
        "id": "iO-2EY8nMjRj"
      }
    },
    {
      "cell_type": "code",
      "source": [
        "onnx_session = rt.InferenceSession(\"xgboost_model.onnx\")\n",
        "X_scaled = np.array(X_scaled, dtype=np.float32)\n",
        "input_name = onnx_session.get_inputs()[0].name\n",
        "output_name = onnx_session.get_outputs()[0].name"
      ],
      "metadata": {
        "id": "pUCbJUPXLavf"
      },
      "execution_count": null,
      "outputs": []
    },
    {
      "cell_type": "markdown",
      "source": [
        "# Predections"
      ],
      "metadata": {
        "id": "Gp6Ly_WjMm3g"
      }
    },
    {
      "cell_type": "code",
      "source": [
        "predictions = onnx_session.run([output_name], {input_name: X_scaled})[0]\n",
        "y_pred = predictions.astype(int) + 1"
      ],
      "metadata": {
        "id": "n5NfcFlzLe9o"
      },
      "execution_count": null,
      "outputs": []
    },
    {
      "cell_type": "markdown",
      "source": [
        "# Accuracy and saving the class prediction"
      ],
      "metadata": {
        "id": "vFT_bWDBMrH9"
      }
    },
    {
      "cell_type": "code",
      "source": [
        "accuracy = accuracy_score(y_cleaned, y_pred)\n",
        "print(f\"Accuracy of the ONNX model: {accuracy:.2%}\")\n",
        "\n",
        "\n",
        "output_data = pd.DataFrame({\"Class\": y_cleaned, \"Predicted_Class\": y_pred})\n",
        "output_data.to_csv(\"class_predictions.csv\", index=False)\n",
        "print(\"Predictions saved to 'class_predictions.csv'\")"
      ],
      "metadata": {
        "colab": {
          "base_uri": "https://localhost:8080/"
        },
        "id": "dEJ599deLgop",
        "outputId": "d15aa748-12f2-4510-efbd-350770d2ab45"
      },
      "execution_count": null,
      "outputs": [
        {
          "output_type": "stream",
          "name": "stdout",
          "text": [
            "Accuracy of the ONNX model: 77.00%\n",
            "Predictions saved to 'class_predictions.csv'\n"
          ]
        }
      ]
    }
  ]
}