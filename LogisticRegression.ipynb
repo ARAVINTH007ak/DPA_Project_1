{
 "cells": [
  {
   "cell_type": "code",
   "execution_count": 3,
   "id": "ff4957cc",
   "metadata": {},
   "outputs": [
    {
     "name": "stdout",
     "output_type": "stream",
     "text": [
      "            A          B           C          D           E          F  \\\n",
      "0  231.420023 -12.210984  217.624839 -15.611916  140.047185  76.904999   \n",
      "1  -38.019270 -14.195695    9.583547  22.293822  -25.578283 -18.373955   \n",
      "2  -39.197085 -20.418850   21.023083  19.790280  -25.902587 -19.189004   \n",
      "3  221.630408  -5.785352  216.725322  -9.900781  126.795177  85.122288   \n",
      "4  228.558412 -12.447710  204.637218 -13.277704  138.930529  91.101870   \n",
      "\n",
      "            G           H          I           J           K         L  \\\n",
      "0  131.591871  198.160805  82.873279  127.350084  224.592926 -5.992983   \n",
      "1   -0.094457  -33.711852  -8.356041   23.792402    4.199023  2.809159   \n",
      "2   -2.953836  -25.299219  -6.612401   26.285392    5.911292  6.191587   \n",
      "3  108.857593  197.640135  82.560019  157.105143  212.989231 -3.621070   \n",
      "4  115.598954  209.300011  89.961688  130.299732  201.795100 -1.573922   \n",
      "\n",
      "           M           N           O  Class  \n",
      "0 -14.689648  143.072058  153.439659      3  \n",
      "1 -59.330681  -11.685950    1.317104      2  \n",
      "2 -56.924996   -4.675187   -1.027830      2  \n",
      "3 -15.469156  135.265859  149.212489      3  \n",
      "4 -15.128603  148.368622  147.492663      3  \n",
      "Accuracy: 0.72\n",
      "Confusion Matrix:\n",
      "[[10417     0 25772]\n",
      " [    0 89845     0]\n",
      " [10182 30139 73645]]\n",
      "Classification Report:\n",
      "              precision    recall  f1-score   support\n",
      "\n",
      "           1       0.51      0.29      0.37     36189\n",
      "           2       0.75      1.00      0.86     89845\n",
      "           3       0.74      0.65      0.69    113966\n",
      "\n",
      "    accuracy                           0.72    240000\n",
      "   macro avg       0.67      0.64      0.64    240000\n",
      "weighted avg       0.71      0.72      0.70    240000\n",
      "\n"
     ]
    },
    {
     "data": {
      "text/plain": [
       "['scaler.pkl']"
      ]
     },
     "execution_count": 3,
     "metadata": {},
     "output_type": "execute_result"
    }
   ],
   "source": [
    "# Import necessary libraries\n",
    "import pandas as pd\n",
    "from sklearn.model_selection import train_test_split\n",
    "from sklearn.linear_model import LogisticRegression\n",
    "from sklearn.preprocessing import StandardScaler\n",
    "from sklearn.metrics import accuracy_score, confusion_matrix, classification_report\n",
    "import joblib\n",
    "\n",
    "# Load the dataset\n",
    "data_path = 'data_public.csv'\n",
    "data = pd.read_csv(data_path)\n",
    "\n",
    "# Display the first few rows of the dataset\n",
    "print(data.head())\n",
    "\n",
    "# Separate features and target variable\n",
    "# Assuming the target column is the last one\n",
    "X = data.iloc[:, :-1]  # All columns except the last\n",
    "y = data.iloc[:, -1]   # Last column as target\n",
    "\n",
    "# Split the dataset into training and testing sets\n",
    "X_train, X_test, y_train, y_test = train_test_split(X, y, test_size=0.2, random_state=42)\n",
    "\n",
    "# Scale the features\n",
    "scaler = StandardScaler()\n",
    "X_train = scaler.fit_transform(X_train)\n",
    "X_test = scaler.transform(X_test)\n",
    "\n",
    "# Create and train the Logistic Regression model\n",
    "model = LogisticRegression(max_iter=1000, random_state=42)\n",
    "model.fit(X_train, y_train)\n",
    "\n",
    "# Predict on the test set\n",
    "y_pred = model.predict(X_test)\n",
    "\n",
    "# Evaluate the model\n",
    "accuracy = accuracy_score(y_test, y_pred)\n",
    "conf_matrix = confusion_matrix(y_test, y_pred)\n",
    "class_report = classification_report(y_test, y_pred)\n",
    "\n",
    "print(f\"Accuracy: {accuracy:.2f}\")\n",
    "print(\"Confusion Matrix:\")\n",
    "print(conf_matrix)\n",
    "print(\"Classification Report:\")\n",
    "print(class_report)\n",
    "\n",
    "# Optional: Save the model and scaler\n",
    "joblib.dump(model, 'logistic_regression_model.pkl')\n",
    "joblib.dump(scaler, 'scaler.pkl')\n"
   ]
  },
  {
   "cell_type": "code",
   "execution_count": null,
   "id": "51d09a15",
   "metadata": {},
   "outputs": [],
   "source": []
  }
 ],
 "metadata": {
  "kernelspec": {
   "display_name": "Python 3 (ipykernel)",
   "language": "python",
   "name": "python3"
  },
  "language_info": {
   "codemirror_mode": {
    "name": "ipython",
    "version": 3
   },
   "file_extension": ".py",
   "mimetype": "text/x-python",
   "name": "python",
   "nbconvert_exporter": "python",
   "pygments_lexer": "ipython3",
   "version": "3.10.9"
  }
 },
 "nbformat": 4,
 "nbformat_minor": 5
}
